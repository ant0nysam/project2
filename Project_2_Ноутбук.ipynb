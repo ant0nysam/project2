{
  "cells": [
    {
      "cell_type": "markdown",
      "id": "42289889-bd57-434e-9637-d3e354756316",
      "metadata": {
        "id": "42289889-bd57-434e-9637-d3e354756316"
      },
      "source": [
        "<center> <img src = https://raw.githubusercontent.com/AndreyRysistov/DatasetsForPandas/main/hh%20label.jpg alt=\"drawing\" style=\"width:400px;\">"
      ]
    },
    {
      "cell_type": "markdown",
      "id": "829cb75b-f14e-4ba8-9195-7ba929a7d656",
      "metadata": {
        "id": "829cb75b-f14e-4ba8-9195-7ba929a7d656",
        "tags": []
      },
      "source": [
        "# <center> Проект: Анализ вакансий из HeadHunter\n",
        "   "
      ]
    },
    {
      "cell_type": "code",
      "execution_count": 1,
      "id": "dccfde33-2452-43fb-a8a5-5c6ebc02a71d",
      "metadata": {
        "id": "dccfde33-2452-43fb-a8a5-5c6ebc02a71d"
      },
      "outputs": [],
      "source": [
        "import pandas as pd\n",
        "import psycopg2"
      ]
    },
    {
      "cell_type": "code",
      "execution_count": 3,
      "id": "G4X_q8KBf7SF",
      "metadata": {
        "id": "G4X_q8KBf7SF"
      },
      "outputs": [],
      "source": [
        "connection = psycopg2.connect(\n",
        "    dbname=DBNAME,\n",
        "    user=USER,\n",
        "    host=HOST,\n",
        "    password=PASSWORD,\n",
        "    port=PORT\n",
        ")"
      ]
    },
    {
      "cell_type": "markdown",
      "id": "0dc6476b-7a00-44f1-ac93-6e3baed33a29",
      "metadata": {
        "id": "0dc6476b-7a00-44f1-ac93-6e3baed33a29"
      },
      "source": [
        "# Юнит 3. Предварительный анализ данных"
      ]
    },
    {
      "cell_type": "markdown",
      "id": "889782b6-8d1c-410e-8920-e57f27917c64",
      "metadata": {
        "id": "889782b6-8d1c-410e-8920-e57f27917c64"
      },
      "source": [
        "1. Напишите запрос, который посчитает количество вакансий в нашей базе (вакансии находятся в таблице vacancies)."
      ]
    },
    {
      "cell_type": "code",
      "execution_count": 4,
      "id": "bc39e68e-ed02-4ee2-9235-7258a2f867a8",
      "metadata": {
        "id": "bc39e68e-ed02-4ee2-9235-7258a2f867a8"
      },
      "outputs": [],
      "source": [
        "# текст запроса\n",
        "query_3_1 = f'''\n",
        "select\n",
        "    count(*)\n",
        "from vacancies\n",
        "'''"
      ]
    },
    {
      "cell_type": "code",
      "execution_count": 5,
      "id": "7mAwtsk4hEHY",
      "metadata": {
        "colab": {
          "base_uri": "https://localhost:8080/"
        },
        "id": "7mAwtsk4hEHY",
        "outputId": "51a26712-2bb8-4d87-ad2f-6b51511d559b"
      },
      "outputs": [
        {
          "name": "stderr",
          "output_type": "stream",
          "text": [
            "<ipython-input-5-66fffb49e411>:2: UserWarning: pandas only supports SQLAlchemy connectable (engine/connection) or database string URI or sqlite3 DBAPI2 connection. Other DBAPI2 objects are not tested. Please consider using SQLAlchemy.\n",
            "  vac_amount = pd.read_sql_query(query_3_1, connection)\n"
          ]
        },
        {
          "name": "stdout",
          "output_type": "stream",
          "text": [
            "   count\n",
            "0  49197\n"
          ]
        }
      ],
      "source": [
        "# результат запроса\n",
        "vac_amount = pd.read_sql_query(query_3_1, connection)\n",
        "print(vac_amount)"
      ]
    },
    {
      "cell_type": "markdown",
      "id": "b583485d-1f9e-494e-ada4-80ffff7c53d6",
      "metadata": {
        "id": "b583485d-1f9e-494e-ada4-80ffff7c53d6"
      },
      "source": [
        "2. Напишите запрос, который посчитает количество работодателей (таблица employers)."
      ]
    },
    {
      "cell_type": "code",
      "execution_count": 6,
      "id": "5408c52c-3407-4a63-b25b-1aafa2322d28",
      "metadata": {
        "id": "5408c52c-3407-4a63-b25b-1aafa2322d28"
      },
      "outputs": [],
      "source": [
        "# текст запроса\n",
        "query_3_2 = f'''\n",
        "select\n",
        "    count(*)\n",
        "from employers\n",
        "'''"
      ]
    },
    {
      "cell_type": "code",
      "execution_count": 7,
      "id": "jVL4eshKhdqc",
      "metadata": {
        "colab": {
          "base_uri": "https://localhost:8080/"
        },
        "id": "jVL4eshKhdqc",
        "outputId": "9ea3a8e4-c05a-45ad-d3d2-9ff5296e3cab"
      },
      "outputs": [
        {
          "name": "stdout",
          "output_type": "stream",
          "text": [
            "   count\n",
            "0  23501\n"
          ]
        },
        {
          "name": "stderr",
          "output_type": "stream",
          "text": [
            "<ipython-input-7-b79b93ea9a75>:2: UserWarning: pandas only supports SQLAlchemy connectable (engine/connection) or database string URI or sqlite3 DBAPI2 connection. Other DBAPI2 objects are not tested. Please consider using SQLAlchemy.\n",
            "  employers_amount = pd.read_sql_query(query_3_2, connection)\n"
          ]
        }
      ],
      "source": [
        "# результат запроса\n",
        "employers_amount = pd.read_sql_query(query_3_2, connection)\n",
        "print(employers_amount)"
      ]
    },
    {
      "cell_type": "markdown",
      "id": "a2bfff1f-c975-4bf6-84be-2185d79dcb76",
      "metadata": {
        "id": "a2bfff1f-c975-4bf6-84be-2185d79dcb76"
      },
      "source": [
        "3. Посчитате с помощью запроса количество регионов (таблица areas)."
      ]
    },
    {
      "cell_type": "code",
      "execution_count": 8,
      "id": "1m8QJwBYhey6",
      "metadata": {
        "id": "1m8QJwBYhey6"
      },
      "outputs": [],
      "source": [
        "# текст запроса\n",
        "query_3_3 = f'''\n",
        "select\n",
        "    count(*)\n",
        "from areas\n",
        "'''"
      ]
    },
    {
      "cell_type": "code",
      "execution_count": 9,
      "id": "EZsn9tlfhe7f",
      "metadata": {
        "colab": {
          "base_uri": "https://localhost:8080/"
        },
        "id": "EZsn9tlfhe7f",
        "outputId": "0f2f09b9-ead7-43de-ea43-7280c7b0d4bb"
      },
      "outputs": [
        {
          "name": "stderr",
          "output_type": "stream",
          "text": [
            "<ipython-input-9-5d3553aacff6>:2: UserWarning: pandas only supports SQLAlchemy connectable (engine/connection) or database string URI or sqlite3 DBAPI2 connection. Other DBAPI2 objects are not tested. Please consider using SQLAlchemy.\n",
            "  areas_amount = pd.read_sql_query(query_3_3, connection)\n"
          ]
        },
        {
          "name": "stdout",
          "output_type": "stream",
          "text": [
            "   count\n",
            "0   1362\n"
          ]
        }
      ],
      "source": [
        "# результат запроса\n",
        "areas_amount = pd.read_sql_query(query_3_3, connection)\n",
        "print(areas_amount)"
      ]
    },
    {
      "cell_type": "markdown",
      "id": "41bb59f3-53cc-4a67-a5bc-bedf573955e4",
      "metadata": {
        "id": "41bb59f3-53cc-4a67-a5bc-bedf573955e4"
      },
      "source": [
        "4. Посчитате с помощью запроса количество сфер деятельности в базе (таблица industries)."
      ]
    },
    {
      "cell_type": "code",
      "execution_count": 10,
      "id": "d286cf4c-707b-4cd2-9190-7ab3587d04a1",
      "metadata": {
        "id": "d286cf4c-707b-4cd2-9190-7ab3587d04a1"
      },
      "outputs": [],
      "source": [
        "# текст запроса\n",
        "query_3_4 = f'''\n",
        "select\n",
        "    count(*)\n",
        "from industries\n",
        "'''"
      ]
    },
    {
      "cell_type": "code",
      "execution_count": 11,
      "id": "JYAaoZ4qhfzW",
      "metadata": {
        "colab": {
          "base_uri": "https://localhost:8080/"
        },
        "id": "JYAaoZ4qhfzW",
        "outputId": "de0e2bfd-0e19-453b-e390-7211e82ba0a6"
      },
      "outputs": [
        {
          "name": "stderr",
          "output_type": "stream",
          "text": [
            "<ipython-input-11-b1407f36427d>:2: UserWarning: pandas only supports SQLAlchemy connectable (engine/connection) or database string URI or sqlite3 DBAPI2 connection. Other DBAPI2 objects are not tested. Please consider using SQLAlchemy.\n",
            "  industries_amount = pd.read_sql_query(query_3_4, connection)\n"
          ]
        },
        {
          "name": "stdout",
          "output_type": "stream",
          "text": [
            "   count\n",
            "0    294\n"
          ]
        }
      ],
      "source": [
        "# результат запроса\n",
        "industries_amount = pd.read_sql_query(query_3_4, connection)\n",
        "print(industries_amount)"
      ]
    },
    {
      "cell_type": "markdown",
      "id": "9a8a2181-6914-448b-85f1-38f5f18b8a93",
      "metadata": {
        "id": "9a8a2181-6914-448b-85f1-38f5f18b8a93"
      },
      "source": [
        "***"
      ]
    },
    {
      "cell_type": "markdown",
      "id": "be4e9bd3-a4db-4a20-82fb-6b02fc2957e0",
      "metadata": {
        "id": "be4e9bd3-a4db-4a20-82fb-6b02fc2957e0"
      },
      "source": [
        "# Выводы по предварительному анализу данных\n",
        "Количество записей в наших таблицах:\n",
        "\n",
        "1. Вакансии - 49197\n",
        "2. Работодатели - 23501\n",
        "3. Регионы - 1362\n",
        "4. Сферы деятельности - 294"
      ]
    },
    {
      "cell_type": "markdown",
      "id": "8d62a9f3-f64e-4fe7-bdac-c4dffa16155e",
      "metadata": {
        "id": "8d62a9f3-f64e-4fe7-bdac-c4dffa16155e"
      },
      "source": [
        "# Юнит 4. Детальный анализ вакансий"
      ]
    },
    {
      "cell_type": "markdown",
      "id": "93053d3d-b284-481a-9cf7-012d7014c0e0",
      "metadata": {
        "id": "93053d3d-b284-481a-9cf7-012d7014c0e0"
      },
      "source": [
        "1. Напишите запрос, который позволит узнать, сколько (cnt) вакансий в каждом регионе (area).\n",
        "Отсортируйте по количеству вакансий в порядке убывания."
      ]
    },
    {
      "cell_type": "code",
      "execution_count": 12,
      "id": "3f069da6-fdc9-4ae7-b514-fafe2675efd3",
      "metadata": {
        "id": "3f069da6-fdc9-4ae7-b514-fafe2675efd3"
      },
      "outputs": [],
      "source": [
        "# текст запроса\n",
        "query_4_1 = f'''\n",
        "select count(*) \"Количество ваканский\", --выводим количество вакансий\n",
        "a.name \"Регион\" --для каждого региона\n",
        "from vacancies v, areas a\n",
        "--соединяем таблицы\n",
        "where v.area_id = a.id --по id региона\n",
        "group by a.name --группируем по названию региона\n",
        "order by 1 desc --сортируем в порядке убывания количества вакансий\n",
        "'''"
      ]
    },
    {
      "cell_type": "code",
      "execution_count": 13,
      "id": "P7QL86hrjhRJ",
      "metadata": {
        "colab": {
          "base_uri": "https://localhost:8080/"
        },
        "id": "P7QL86hrjhRJ",
        "outputId": "62b51722-1d1d-4155-e880-4e0be1a1d2a6"
      },
      "outputs": [
        {
          "name": "stderr",
          "output_type": "stream",
          "text": [
            "<ipython-input-13-a0993ff92112>:2: UserWarning: pandas only supports SQLAlchemy connectable (engine/connection) or database string URI or sqlite3 DBAPI2 connection. Other DBAPI2 objects are not tested. Please consider using SQLAlchemy.\n",
            "  top_areas = pd.read_sql_query(query_4_1, connection)\n"
          ]
        },
        {
          "name": "stdout",
          "output_type": "stream",
          "text": [
            "     Количество ваканский           Регион\n",
            "0                    5333           Москва\n",
            "1                    2851  Санкт-Петербург\n",
            "2                    2112            Минск\n",
            "3                    2006      Новосибирск\n",
            "4                    1892           Алматы\n",
            "..                    ...              ...\n",
            "764                     1       Тарко-Сале\n",
            "765                     1    Новоаннинский\n",
            "766                     1            Бирск\n",
            "767                     1           Сасово\n",
            "768                     1             Анна\n",
            "\n",
            "[769 rows x 2 columns]\n"
          ]
        }
      ],
      "source": [
        "# результат запроса\n",
        "top_areas = pd.read_sql_query(query_4_1, connection)\n",
        "print(top_areas)"
      ]
    },
    {
      "cell_type": "markdown",
      "id": "4266f0b6-1646-492a-88b4-2f6a46502135",
      "metadata": {
        "id": "4266f0b6-1646-492a-88b4-2f6a46502135"
      },
      "source": [
        "2. Напишите запрос, чтобы определить у какого количества вакансий заполнено хотя бы одно из двух полей с зарплатой."
      ]
    },
    {
      "cell_type": "code",
      "execution_count": 14,
      "id": "0c44b350-72eb-4d65-8b54-a1fc449ba9fd",
      "metadata": {
        "id": "0c44b350-72eb-4d65-8b54-a1fc449ba9fd"
      },
      "outputs": [],
      "source": [
        "# текст запроса\n",
        "query_4_2 = f'''\n",
        "select count(*) --считаем количество вакансий\n",
        "from vacancies\n",
        "--где хотя бы одно значение з/п не пустое\n",
        "where salary_from is not null or salary_to is not null\n",
        "'''"
      ]
    },
    {
      "cell_type": "code",
      "execution_count": 15,
      "id": "rhvwaMDkoWTi",
      "metadata": {
        "colab": {
          "base_uri": "https://localhost:8080/"
        },
        "id": "rhvwaMDkoWTi",
        "outputId": "9a745ce0-9e98-44dc-c2af-60df55ab9199"
      },
      "outputs": [
        {
          "name": "stdout",
          "output_type": "stream",
          "text": [
            "   count\n",
            "0  24073\n"
          ]
        },
        {
          "name": "stderr",
          "output_type": "stream",
          "text": [
            "<ipython-input-15-ae431a31004f>:2: UserWarning: pandas only supports SQLAlchemy connectable (engine/connection) or database string URI or sqlite3 DBAPI2 connection. Other DBAPI2 objects are not tested. Please consider using SQLAlchemy.\n",
            "  salary_check = pd.read_sql_query(query_4_2, connection)\n"
          ]
        }
      ],
      "source": [
        "# результат запроса\n",
        "salary_check = pd.read_sql_query(query_4_2, connection)\n",
        "print(salary_check)"
      ]
    },
    {
      "cell_type": "markdown",
      "id": "635c4d5d-f323-4c66-b428-50a088120aa0",
      "metadata": {
        "id": "635c4d5d-f323-4c66-b428-50a088120aa0"
      },
      "source": [
        "3. Найдите средние значения для нижней и верхней границы зарплатной вилки. Округлите значения до целого."
      ]
    },
    {
      "cell_type": "code",
      "execution_count": 16,
      "id": "603cdbe4-0ec3-4106-8eaf-c73fcdd29165",
      "metadata": {
        "id": "603cdbe4-0ec3-4106-8eaf-c73fcdd29165"
      },
      "outputs": [],
      "source": [
        "# текст запроса\n",
        "query_4_3 = f'''\n",
        "select round(avg(salary_from)) as \"from\", round(avg(salary_to)) as \"to\"\n",
        "from vacancies\n",
        "'''"
      ]
    },
    {
      "cell_type": "code",
      "execution_count": 17,
      "id": "pswpAb66ovZZ",
      "metadata": {
        "colab": {
          "base_uri": "https://localhost:8080/"
        },
        "id": "pswpAb66ovZZ",
        "outputId": "08107662-b37e-4368-a0b6-531a925e81d2"
      },
      "outputs": [
        {
          "name": "stdout",
          "output_type": "stream",
          "text": [
            "      from        to\n",
            "0  71065.0  110537.0\n"
          ]
        },
        {
          "name": "stderr",
          "output_type": "stream",
          "text": [
            "<ipython-input-17-7959531696c1>:2: UserWarning: pandas only supports SQLAlchemy connectable (engine/connection) or database string URI or sqlite3 DBAPI2 connection. Other DBAPI2 objects are not tested. Please consider using SQLAlchemy.\n",
            "  salary_check_avg = pd.read_sql_query(query_4_3, connection)\n"
          ]
        }
      ],
      "source": [
        "# результат запроса\n",
        "salary_check_avg = pd.read_sql_query(query_4_3, connection)\n",
        "print(salary_check_avg)"
      ]
    },
    {
      "cell_type": "markdown",
      "id": "f3fdaec9-5fd3-4260-9cf5-1d7406b628a5",
      "metadata": {
        "id": "f3fdaec9-5fd3-4260-9cf5-1d7406b628a5"
      },
      "source": [
        "4. Напишите запрос, который выведет количество вакансий для каждого сочетания типа рабочего графика (schedule) и типа трудоустройства (employment), используемого в вакансиях. Результат отсортируйте по убыванию количества.\n"
      ]
    },
    {
      "cell_type": "code",
      "execution_count": 18,
      "id": "1ea710ec-871b-431e-9462-c7d0fd87011b",
      "metadata": {
        "id": "1ea710ec-871b-431e-9462-c7d0fd87011b"
      },
      "outputs": [],
      "source": [
        "# текст запроса\n",
        "query_4_4 = f'''\n",
        "select\n",
        "    schedule \"Тип рабочего графика\",\n",
        "    employment \"Тип трудоустройства\",\n",
        "    count(*) --выводим количество вакансий\n",
        "from vacancies\n",
        "group by schedule, employment --группируем по графику и трудоустройству\n",
        "order by count desc --сортируем по количеству вакансий по убыванию\n",
        "'''"
      ]
    },
    {
      "cell_type": "code",
      "execution_count": 19,
      "id": "lGUVqavdo4JQ",
      "metadata": {
        "colab": {
          "base_uri": "https://localhost:8080/"
        },
        "id": "lGUVqavdo4JQ",
        "outputId": "fb028a07-8c36-45d9-b42e-b3c0d2836864"
      },
      "outputs": [
        {
          "name": "stderr",
          "output_type": "stream",
          "text": [
            "<ipython-input-19-35fb5e596d28>:2: UserWarning: pandas only supports SQLAlchemy connectable (engine/connection) or database string URI or sqlite3 DBAPI2 connection. Other DBAPI2 objects are not tested. Please consider using SQLAlchemy.\n",
            "  top_schedules = pd.read_sql_query(query_4_4, connection)\n"
          ]
        },
        {
          "name": "stdout",
          "output_type": "stream",
          "text": [
            "   Тип рабочего графика  Тип трудоустройства  count\n",
            "0           Полный день     Полная занятость  35367\n",
            "1      Удаленная работа     Полная занятость   7802\n",
            "2         Гибкий график     Полная занятость   1593\n",
            "3      Удаленная работа  Частичная занятость   1312\n",
            "4        Сменный график     Полная занятость    940\n",
            "5           Полный день           Стажировка    569\n",
            "6        Вахтовый метод     Полная занятость    367\n",
            "7           Полный день  Частичная занятость    347\n",
            "8         Гибкий график  Частичная занятость    312\n",
            "9           Полный день     Проектная работа    141\n",
            "10     Удаленная работа     Проектная работа    133\n",
            "11        Гибкий график           Стажировка    116\n",
            "12       Сменный график  Частичная занятость    101\n",
            "13     Удаленная работа           Стажировка     64\n",
            "14        Гибкий график     Проектная работа     18\n",
            "15       Сменный график           Стажировка     12\n",
            "16       Вахтовый метод     Проектная работа      2\n",
            "17       Сменный график     Проектная работа      1\n"
          ]
        }
      ],
      "source": [
        "# результат запроса\n",
        "top_schedules = pd.read_sql_query(query_4_4, connection)\n",
        "print(top_schedules)"
      ]
    },
    {
      "cell_type": "markdown",
      "id": "0136ffee-0ead-4a6b-b608-61d1c753a438",
      "metadata": {
        "id": "0136ffee-0ead-4a6b-b608-61d1c753a438"
      },
      "source": [
        "5. Напишите запрос, выводящий значения поля Требуемый опыт работы (experience) в порядке возрастания количества вакансий, в которых указан данный вариант опыта."
      ]
    },
    {
      "cell_type": "code",
      "execution_count": 20,
      "id": "5b3a8e79-f7ab-4008-b767-12aea3a205ea",
      "metadata": {
        "id": "5b3a8e79-f7ab-4008-b767-12aea3a205ea"
      },
      "outputs": [],
      "source": [
        "# текст запроса\n",
        "query_4_5 = f'''\n",
        "select\n",
        "    experience \"Требуемый опыт работы\",\n",
        "    count(id)\n",
        "from public.vacancies\n",
        "group by experience\n",
        "order by count\n",
        "'''"
      ]
    },
    {
      "cell_type": "code",
      "execution_count": 21,
      "id": "3Is64Y-hpDpq",
      "metadata": {
        "colab": {
          "base_uri": "https://localhost:8080/"
        },
        "id": "3Is64Y-hpDpq",
        "outputId": "ece44595-c74b-483b-abea-916cb04c3263"
      },
      "outputs": [
        {
          "name": "stderr",
          "output_type": "stream",
          "text": [
            "<ipython-input-21-5efb33d5cab9>:2: UserWarning: pandas only supports SQLAlchemy connectable (engine/connection) or database string URI or sqlite3 DBAPI2 connection. Other DBAPI2 objects are not tested. Please consider using SQLAlchemy.\n",
            "  exp_rating = pd.read_sql_query(query_4_5, connection)\n"
          ]
        },
        {
          "name": "stdout",
          "output_type": "stream",
          "text": [
            "  Требуемый опыт работы  count\n",
            "0           Более 6 лет   1337\n",
            "1             Нет опыта   7197\n",
            "2         От 3 до 6 лет  14511\n",
            "3    От 1 года до 3 лет  26152\n"
          ]
        }
      ],
      "source": [
        "# результат запроса\n",
        "exp_rating = pd.read_sql_query(query_4_5, connection)\n",
        "print(exp_rating)"
      ]
    },
    {
      "cell_type": "markdown",
      "id": "oq2b7n1QpIka",
      "metadata": {
        "id": "oq2b7n1QpIka"
      },
      "source": [
        "***"
      ]
    },
    {
      "cell_type": "markdown",
      "id": "e91f87ed-e25c-4f96-9f92-b642e8c0b4fa",
      "metadata": {
        "id": "e91f87ed-e25c-4f96-9f92-b642e8c0b4fa"
      },
      "source": [
        "# Выводы по детальному анализу вакансий\n",
        "Больше всего вакансий относятся к следующим регионам: Москва, Санкт-Петербург, Минск, Новосибирск, Алматы. У 24073 вакансий указан размер заработной платы. В среднем работодатели готовы платить от 71065 до 110537 рублей. Самые популярные виды графиков - \"полный день/полная занятость\" и \"удаленная работа/полная занятость\". В подавляющем большинстве вакансий требуемый опыт составляет  от 1 до 3 лет. Наименьшее число вакансий - с требуемым опытом более 6-ти лет."
      ]
    },
    {
      "cell_type": "markdown",
      "id": "7ea20ab6-04a7-40a0-adec-443a0e5a42c3",
      "metadata": {
        "id": "7ea20ab6-04a7-40a0-adec-443a0e5a42c3"
      },
      "source": [
        "# Юнит 5. Анализ работодателей"
      ]
    },
    {
      "cell_type": "markdown",
      "id": "968aed80-74ef-4ffb-b5bf-c65b84e9caea",
      "metadata": {
        "id": "968aed80-74ef-4ffb-b5bf-c65b84e9caea"
      },
      "source": [
        "1. Напишите запрос, который позволит узнать, какие работодатели находятся на первом и пятом месте по количеству вакансий."
      ]
    },
    {
      "cell_type": "code",
      "execution_count": 22,
      "id": "f2d62796-d400-4ec1-a675-88112739a50e",
      "metadata": {
        "id": "f2d62796-d400-4ec1-a675-88112739a50e"
      },
      "outputs": [],
      "source": [
        "# текст запроса\n",
        "query_5_1 = f'''\n",
        "select\n",
        "    e.name \"Работодатель\", --выводим название работодателя\n",
        "    count(v.id) \"Кол-во вакансий\" --и количество вакансий\n",
        "from vacancies v, employers e\n",
        "--связываем таблицы\n",
        "where v.employer_id = e.id --по id работодателя\n",
        "group by 1 --группируем по работодателю\n",
        "order by 2 desc --сортируем по вакансиям в порядке убывания\n",
        "limit 5 --обрезаем вывод данных до 5 строк, чтобы увидеть 1-ую и 5-ую позиции\n",
        "'''"
      ]
    },
    {
      "cell_type": "code",
      "execution_count": 23,
      "id": "64tOMkAxqkQk",
      "metadata": {
        "colab": {
          "base_uri": "https://localhost:8080/"
        },
        "id": "64tOMkAxqkQk",
        "outputId": "22e31c46-8cfd-4fb4-b5d5-1a3fcd404e72"
      },
      "outputs": [
        {
          "name": "stderr",
          "output_type": "stream",
          "text": [
            "<ipython-input-23-54c3640da89d>:2: UserWarning: pandas only supports SQLAlchemy connectable (engine/connection) or database string URI or sqlite3 DBAPI2 connection. Other DBAPI2 objects are not tested. Please consider using SQLAlchemy.\n",
            "  top_employers = pd.read_sql_query(query_5_1, connection)\n"
          ]
        },
        {
          "name": "stdout",
          "output_type": "stream",
          "text": [
            "    Работодатель  Кол-во вакансий\n",
            "0         Яндекс             1933\n",
            "1     Ростелеком              491\n",
            "2       Тинькофф              444\n",
            "3           СБЕР              428\n",
            "4  Газпром нефть              331\n"
          ]
        }
      ],
      "source": [
        "# результат запроса\n",
        "top_employers = pd.read_sql_query(query_5_1, connection)\n",
        "print(top_employers)"
      ]
    },
    {
      "cell_type": "markdown",
      "id": "68377cfc-b378-43dc-ab7d-1195abf2c515",
      "metadata": {
        "id": "68377cfc-b378-43dc-ab7d-1195abf2c515"
      },
      "source": [
        "2. Напишите запрос, который для каждого региона выведет количество работодателей и вакансий в нём.\n",
        "Среди регионов, в которых нет вакансий, найдите тот, в котором наибольшее количество работодателей.\n"
      ]
    },
    {
      "cell_type": "code",
      "execution_count": 24,
      "id": "dd7df27a-e3e8-412e-a21a-5d389b71e891",
      "metadata": {
        "id": "dd7df27a-e3e8-412e-a21a-5d389b71e891"
      },
      "outputs": [],
      "source": [
        "# текст запроса\n",
        "query_5_2 = f'''\n",
        "select --выводим необходимые значения\n",
        "    a.name \"Регион\",\n",
        "    count(e.id) \"Кол-во работодателей\",\n",
        "    count(v.id) \"Кол-во вакансий\"\n",
        "from areas a\n",
        "--к таблице регионов присоединяем по id региона\n",
        "left join employers e on e.area = a.id --таблицу работодателей\n",
        "left join vacancies v on v.area_id = a.id --и таблицу вакансий\n",
        "group by 1 --группируем по региону\n",
        "order by 3, 2 desc --сортируем сначала по количеству работодателей, затем - вакансий (по убыванию)\n",
        "'''"
      ]
    },
    {
      "cell_type": "code",
      "execution_count": 25,
      "id": "x1ikWbydrbf6",
      "metadata": {
        "colab": {
          "base_uri": "https://localhost:8080/"
        },
        "id": "x1ikWbydrbf6",
        "outputId": "2c0f59a9-c05b-40f2-e95b-a649e7d243ac"
      },
      "outputs": [
        {
          "name": "stderr",
          "output_type": "stream",
          "text": [
            "<ipython-input-25-92948973aee0>:2: UserWarning: pandas only supports SQLAlchemy connectable (engine/connection) or database string URI or sqlite3 DBAPI2 connection. Other DBAPI2 objects are not tested. Please consider using SQLAlchemy.\n",
            "  region_emp_vac = pd.read_sql_query(query_5_2, connection)\n"
          ]
        },
        {
          "name": "stdout",
          "output_type": "stream",
          "text": [
            "                  Регион  Кол-во работодателей  Кол-во вакансий\n",
            "0                 Россия                   410                0\n",
            "1              Казахстан                   207                0\n",
            "2     Московская область                    75                0\n",
            "3     Краснодарский край                    19                0\n",
            "4     Ростовская область                    18                0\n",
            "...                  ...                   ...              ...\n",
            "1357         Новосибирск               1149438          1149438\n",
            "1358              Алматы               1364132          1364132\n",
            "1359               Минск               2354880          2354880\n",
            "1360     Санкт-Петербург               6320667          6320667\n",
            "1361              Москва              31272712         31272712\n",
            "\n",
            "[1362 rows x 3 columns]\n"
          ]
        }
      ],
      "source": [
        "# результат запроса\n",
        "region_emp_vac = pd.read_sql_query(query_5_2, connection)\n",
        "print(region_emp_vac)"
      ]
    },
    {
      "cell_type": "markdown",
      "id": "f2fe0acb-ab1a-4e15-9326-2560e22d73c1",
      "metadata": {
        "id": "f2fe0acb-ab1a-4e15-9326-2560e22d73c1"
      },
      "source": [
        "3. Для каждого работодателя посчитайте количество регионов, в которых он публикует свои вакансии. Отсортируйте результат по убыванию количества.\n"
      ]
    },
    {
      "cell_type": "code",
      "execution_count": 26,
      "id": "6271f8ad-bd2e-4196-ae4a-5b39c4c1010e",
      "metadata": {
        "id": "6271f8ad-bd2e-4196-ae4a-5b39c4c1010e"
      },
      "outputs": [],
      "source": [
        "# текст запроса\n",
        "query_5_3 = f'''\n",
        "select --выводим показатели\n",
        "    e.name \"Работодатель\",\n",
        "    count(distinct v.area_id) \"Кол-во регионов\"\n",
        "from employers e --из таблицы работодателей,\n",
        "join vacancies v on e.id = v.employer_id --присоединив таблицу вакансий по id работодателя\n",
        "group by 1 --группируем по работодателю\n",
        "order by 2 desc --сортируем по вакансиям в порядке убывания\n",
        "'''"
      ]
    },
    {
      "cell_type": "code",
      "execution_count": 27,
      "id": "1EIvX3HasH4F",
      "metadata": {
        "colab": {
          "base_uri": "https://localhost:8080/"
        },
        "id": "1EIvX3HasH4F",
        "outputId": "5474beb9-b010-4dba-f947-ae96e2b066f4"
      },
      "outputs": [
        {
          "name": "stderr",
          "output_type": "stream",
          "text": [
            "<ipython-input-27-6d43781fe81b>:2: UserWarning: pandas only supports SQLAlchemy connectable (engine/connection) or database string URI or sqlite3 DBAPI2 connection. Other DBAPI2 objects are not tested. Please consider using SQLAlchemy.\n",
            "  emp_regions_count = pd.read_sql_query(query_5_3, connection)\n"
          ]
        },
        {
          "name": "stdout",
          "output_type": "stream",
          "text": [
            "                 Работодатель  Кол-во регионов\n",
            "0                      Яндекс              181\n",
            "1                  Ростелеком              152\n",
            "2                  Спецремонт              116\n",
            "3      Поляков Денис Иванович               88\n",
            "4                   ООО ЕФИН                71\n",
            "...                       ...              ...\n",
            "14761                  UniSol                1\n",
            "14762            UNISTORY LLC                1\n",
            "14763                   UNIT6                1\n",
            "14764     United Distribution                1\n",
            "14765              UNITEL LLC                1\n",
            "\n",
            "[14766 rows x 2 columns]\n"
          ]
        }
      ],
      "source": [
        "# результат запроса\n",
        "emp_regions_count = pd.read_sql_query(query_5_3, connection)\n",
        "print(emp_regions_count)"
      ]
    },
    {
      "cell_type": "markdown",
      "id": "eab2206d-d95b-468b-8e5f-34381abf0ce7",
      "metadata": {
        "id": "eab2206d-d95b-468b-8e5f-34381abf0ce7"
      },
      "source": [
        "4. Напишите запрос для подсчёта количества работодателей, у которых не указана сфера деятельности."
      ]
    },
    {
      "cell_type": "code",
      "execution_count": 28,
      "id": "80defb23-bfb1-4a18-8be6-bf36aa7165d5",
      "metadata": {
        "id": "80defb23-bfb1-4a18-8be6-bf36aa7165d5"
      },
      "outputs": [],
      "source": [
        "# текст запроса\n",
        "query_5_4 = f'''\n",
        "select\n",
        "    count(e.id) --считаем количество работодателей\n",
        "from employers e\n",
        "--присоединяем таблицу с вакансиями\n",
        "left join employers_industries ei on e.id = ei.employer_id --по id работодателя\n",
        "where ei.industry_id is null --фильтруем по пустым значениям сфер деятельности\n",
        "'''"
      ]
    },
    {
      "cell_type": "code",
      "execution_count": 29,
      "id": "Dp_yCx6ysQSu",
      "metadata": {
        "colab": {
          "base_uri": "https://localhost:8080/"
        },
        "id": "Dp_yCx6ysQSu",
        "outputId": "2b6b8b3b-8df9-4284-cc47-1f3302cd1967"
      },
      "outputs": [
        {
          "name": "stdout",
          "output_type": "stream",
          "text": [
            "   count\n",
            "0   8419\n"
          ]
        },
        {
          "name": "stderr",
          "output_type": "stream",
          "text": [
            "<ipython-input-29-81662082ddce>:2: UserWarning: pandas only supports SQLAlchemy connectable (engine/connection) or database string URI or sqlite3 DBAPI2 connection. Other DBAPI2 objects are not tested. Please consider using SQLAlchemy.\n",
            "  emp_without_ind = pd.read_sql_query(query_5_4, connection)\n"
          ]
        }
      ],
      "source": [
        "# результат запроса\n",
        "emp_without_ind = pd.read_sql_query(query_5_4, connection)\n",
        "print(emp_without_ind)"
      ]
    },
    {
      "cell_type": "markdown",
      "id": "0112af31-f6b0-4e3b-82ab-71296e752e5e",
      "metadata": {
        "id": "0112af31-f6b0-4e3b-82ab-71296e752e5e"
      },
      "source": [
        "5. Напишите запрос, чтобы узнать название компании, находящейся на третьем месте в алфавитном списке (по названию) компаний, у которых указано четыре сферы деятельности."
      ]
    },
    {
      "cell_type": "code",
      "execution_count": 30,
      "id": "973b0cfc-a972-470a-8b4a-68744ef220c4",
      "metadata": {
        "id": "973b0cfc-a972-470a-8b4a-68744ef220c4"
      },
      "outputs": [],
      "source": [
        "# текст запроса\n",
        "query_5_5 = f'''\n",
        "select\n",
        "    e.name\n",
        "from employers e --к таблице рвботодателей\n",
        "--присоединяем таблицу со сферами деятельности\n",
        "left join employers_industries ei on e.id = ei.employer_id --по id работодателя\n",
        "group by 1\n",
        "having count(ei.industry_id) = 4 --фильтруем по по количеству сфер\n",
        "order by 1 --сортируем по алфавиту\n",
        "offset 2 --обрезаем первые две строки\n",
        "limit 1 --и ограничиваем вывод одной (третьей - искомой) строкой\n",
        "'''"
      ]
    },
    {
      "cell_type": "code",
      "execution_count": 31,
      "id": "xsPtpp8EsaED",
      "metadata": {
        "colab": {
          "base_uri": "https://localhost:8080/"
        },
        "id": "xsPtpp8EsaED",
        "outputId": "feede947-c5df-4bec-dd49-fa43e6e7dd3d"
      },
      "outputs": [
        {
          "name": "stderr",
          "output_type": "stream",
          "text": [
            "<ipython-input-31-64d1d795eab0>:2: UserWarning: pandas only supports SQLAlchemy connectable (engine/connection) or database string URI or sqlite3 DBAPI2 connection. Other DBAPI2 objects are not tested. Please consider using SQLAlchemy.\n",
            "  emp_with_4_ind = pd.read_sql_query(query_5_5, connection)\n"
          ]
        },
        {
          "name": "stdout",
          "output_type": "stream",
          "text": [
            "   name\n",
            "0  2ГИС\n"
          ]
        }
      ],
      "source": [
        "# результат запроса\n",
        "emp_with_4_ind = pd.read_sql_query(query_5_5, connection)\n",
        "print(emp_with_4_ind)"
      ]
    },
    {
      "cell_type": "markdown",
      "id": "3bfcfdaf-755d-4d2b-8ed8-326201dc07ab",
      "metadata": {
        "id": "3bfcfdaf-755d-4d2b-8ed8-326201dc07ab"
      },
      "source": [
        "6. С помощью запроса выясните, у какого количества работодателей в качестве сферы деятельности указана Разработка программного обеспечения.\n"
      ]
    },
    {
      "cell_type": "code",
      "execution_count": 32,
      "id": "ad3f270f-2991-47eb-929b-e8f88a55b0d1",
      "metadata": {
        "id": "ad3f270f-2991-47eb-929b-e8f88a55b0d1"
      },
      "outputs": [],
      "source": [
        "# текст запроса\n",
        "query_5_6 = f'''\n",
        "select\n",
        "    count(e.employer_id)\n",
        "from employers_industries e\n",
        "--связываем таблицы работодателей и сфер деятельности\n",
        "left join industries i on e.industry_id = i.id --по id сферы деятельности\n",
        "--фильтруем по названию конкретной сферы\n",
        "where i.name like '%Разработка программного обеспечения%'\n",
        "'''"
      ]
    },
    {
      "cell_type": "code",
      "execution_count": 33,
      "id": "H72qxWM0shPR",
      "metadata": {
        "colab": {
          "base_uri": "https://localhost:8080/"
        },
        "id": "H72qxWM0shPR",
        "outputId": "bfac1435-1f9c-43bd-cf3d-4219ab2d2041"
      },
      "outputs": [
        {
          "name": "stderr",
          "output_type": "stream",
          "text": [
            "<ipython-input-33-c8644cc3112f>:2: UserWarning: pandas only supports SQLAlchemy connectable (engine/connection) or database string URI or sqlite3 DBAPI2 connection. Other DBAPI2 objects are not tested. Please consider using SQLAlchemy.\n",
            "  software_dev = pd.read_sql_query(query_5_6, connection)\n"
          ]
        },
        {
          "name": "stdout",
          "output_type": "stream",
          "text": [
            "   count\n",
            "0   3553\n"
          ]
        }
      ],
      "source": [
        "# результат запроса\n",
        "software_dev = pd.read_sql_query(query_5_6, connection)\n",
        "print(software_dev)"
      ]
    },
    {
      "cell_type": "markdown",
      "id": "7b02bb86-0546-40fb-94a4-242f050a5c57",
      "metadata": {
        "id": "7b02bb86-0546-40fb-94a4-242f050a5c57"
      },
      "source": [
        "7. Для компании «Яндекс» выведите список регионов-миллионников, в которых представлены вакансии компании, вместе с количеством вакансий в этих регионах. Также добавьте строку Total с общим количеством вакансий компании. Результат отсортируйте по возрастанию количества.\n",
        "\n",
        "Список городов-милионников надо взять [отсюда](https://ru.wikipedia.org/wiki/%D0%93%D0%BE%D1%80%D0%BE%D0%B4%D0%B0-%D0%BC%D0%B8%D0%BB%D0%BB%D0%B8%D0%BE%D0%BD%D0%B5%D1%80%D1%8B_%D0%A0%D0%BE%D1%81%D1%81%D0%B8%D0%B8).\n",
        "\n",
        "Если возникнут трудности с этим задание посмотрите материалы модуля  PYTHON-17. Как получать данные из веб-источников и API."
      ]
    },
    {
      "cell_type": "code",
      "execution_count": 34,
      "id": "ZdfrL6gIs1Pn",
      "metadata": {
        "id": "ZdfrL6gIs1Pn"
      },
      "outputs": [],
      "source": [
        "# код для получения списка городов-милионников\n",
        "\n",
        "# Импортируем необходимые библиотеки\n",
        "import requests\n",
        "from bs4 import BeautifulSoup\n",
        "\n",
        "# Задаём url страницы\n",
        "url = 'https://ru.wikipedia.org/wiki/%D0%93%D0%BE%D1%80%D0%BE%D0%B4%D0%B0-%D0%BC%D0%B8%D0%BB%D0%BB%D0%B8%D0%BE%D0%BD%D0%B5%D1%80%D1%8B_%D0%A0%D0%BE%D1%81%D1%81%D0%B8%D0%B8'\n",
        "# Выполняем GET-запрос, присваивая содержимое ответа переменной \"response\"\n",
        "response = requests.get(url)\n",
        "page = BeautifulSoup(response.text, 'html.parser')\n",
        "\n",
        "# Находим первый объект под тегом 'table' (таблица) на странице\n",
        "table = page.find_all('table')[0]\n",
        "\n",
        "# Извлекаем строки таблицы кроме заголовка\n",
        "rows = table.find_all('tr')[1:]\n",
        "\n",
        "# Создаём пустой список\n",
        "mill_city_list = []\n",
        "\n",
        "# Проходим по всем строкам таблицы,\n",
        "# извлекая текст только из второго столбца\n",
        "# и добавляя его в список\n",
        "for row in rows:\n",
        "    mill_city_list.append(row.find_all('td')[1].text)\n",
        "\n",
        "# преобразуем список в кортеж для sql-запроса\n",
        "mill_city_list = tuple(mill_city_list)"
      ]
    },
    {
      "cell_type": "code",
      "execution_count": 35,
      "id": "5a0e32a4-e68a-4365-8a39-2fe24c542c36",
      "metadata": {
        "id": "5a0e32a4-e68a-4365-8a39-2fe24c542c36"
      },
      "outputs": [],
      "source": [
        "# текст запроса\n",
        "query_5_7 = f'''\n",
        "select\n",
        "    a.name,\n",
        "    count(v.id) cnt\n",
        "from vacancies v --к таблице вакансий\n",
        "--присоединяем таблицы с регионами и работодателями\n",
        "join areas a on a.id = v.area_id\n",
        "join employers e on e.id = v.employer_id\n",
        "--задаём фильтр по названию работодателя\n",
        "where a.name in {mill_city_list} and e.name = 'Яндекс'\n",
        "group by 1 --группируем по названиям городов\n",
        "--объединяем с ещё одним запросом для вывода общего количества вакансий\n",
        "union all\n",
        "select\n",
        "    'Total', --задаём значение первой ячейки\n",
        "    count(v.id) --и считаем общее количество\n",
        "from vacancies v\n",
        "join areas a on a.id = v.area_id\n",
        "join employers e on e.id = v.employer_id\n",
        "--также фильтруем по названию конкретного работодателя\n",
        "where a.name in {mill_city_list} and e.name = 'Яндекс'\n",
        "order by 2 --сортируем всю получившуюся таблицу по количеству вакансий (по возрастанию)\n",
        "'''"
      ]
    },
    {
      "cell_type": "code",
      "execution_count": 36,
      "id": "ttPhiO1rsvPq",
      "metadata": {
        "colab": {
          "base_uri": "https://localhost:8080/"
        },
        "id": "ttPhiO1rsvPq",
        "outputId": "4b240782-c3c7-4700-afea-d57f4d864336"
      },
      "outputs": [
        {
          "name": "stderr",
          "output_type": "stream",
          "text": [
            "<ipython-input-36-2c4f6d656a04>:2: UserWarning: pandas only supports SQLAlchemy connectable (engine/connection) or database string URI or sqlite3 DBAPI2 connection. Other DBAPI2 objects are not tested. Please consider using SQLAlchemy.\n",
            "  yandex_mill_vac = pd.read_sql_query(query_5_7, connection)\n"
          ]
        },
        {
          "name": "stdout",
          "output_type": "stream",
          "text": [
            "               name  cnt\n",
            "0              Омск   21\n",
            "1         Челябинск   22\n",
            "2        Красноярск   23\n",
            "3         Волгоград   24\n",
            "4             Пермь   25\n",
            "5            Казань   25\n",
            "6    Ростов-на-Дону   25\n",
            "7               Уфа   26\n",
            "8            Самара   26\n",
            "9         Краснодар   30\n",
            "10          Воронеж   32\n",
            "11      Новосибирск   35\n",
            "12  Нижний Новгород   36\n",
            "13     Екатеринбург   39\n",
            "14  Санкт-Петербург   42\n",
            "15           Москва   54\n",
            "16            Total  485\n"
          ]
        }
      ],
      "source": [
        "# результат запроса\n",
        "yandex_mill_vac = pd.read_sql_query(query_5_7, connection)\n",
        "print(yandex_mill_vac)"
      ]
    },
    {
      "cell_type": "markdown",
      "id": "04966e40-3bc3-4dc8-9ba2-e80580ce3abc",
      "metadata": {
        "id": "04966e40-3bc3-4dc8-9ba2-e80580ce3abc"
      },
      "source": [
        "***"
      ]
    },
    {
      "cell_type": "markdown",
      "id": "aGGyER-yt4SR",
      "metadata": {
        "id": "aGGyER-yt4SR"
      },
      "source": [
        "# Выводы по анализу работодателей\n",
        "\n",
        "Топ-5 работодателей выглядит так:\n",
        "\n",
        "1.\tЯндекс\t\t1933\n",
        "2.\tРостелеком\t\t491\n",
        "3.\tТинькофф\t\t444\n",
        "4.\tСБЕР\t\t\t428\n",
        "5.\tГазпром нефть\t331\n",
        "\n",
        "Топ-5 по количеству работодателей в регионах:\n",
        "\n",
        "1.\tМосква\t\t5,864 (5333 вакансий)\n",
        "2.\tСанкт-Петербург\t2,217 (2851 вакансий)\n",
        "3.\tМинск\t\t\t1,115 (2112 вакансий)\n",
        "4.\tАлматы\t\t721 (1892 вакансий)\n",
        "5.\tЕкатеринбург\t\t609 (1698 вакансий)\n",
        "\n",
        "Компании с самой широкой географией: Яндекс (публикуют вакансии в 181 регионах), Ростелеком (152 региона) и Спецремонт (116 регионов).\n",
        "\n",
        "35% работодателей не указали сферу деятельности в своих вакансиях.\n",
        "\n",
        "Топ компаний по количеству сфер деятельности опубликованных вакансий:\n",
        "\n",
        "1.\tМодуль\t\t16\n",
        "2.\tПростые решения\t11\n",
        "3.\tЭнергия\t\t10\n",
        "4.\tПрайд\t\t\t10\n",
        "5.\tСБК\t\t\t9\n",
        "\n",
        "У компании Яндекс размещено 485 вакансий во всех городах-миллионерах, где лидерами по количеству вакансий ожидаемо являются Москва (54 вакансии) и Санкт-Петербург (42 вакансии). Далее идут Екатеринбург (39) и Нижний Новгород (36), а замыкает пятёрку Новосибирск с 35-ью вакансиями.\n"
      ]
    },
    {
      "cell_type": "markdown",
      "id": "b1ef156a-efcb-49ce-bb23-90763e7f35b2",
      "metadata": {
        "id": "b1ef156a-efcb-49ce-bb23-90763e7f35b2",
        "tags": []
      },
      "source": [
        "# Юнит 6. Предметный анализ"
      ]
    },
    {
      "cell_type": "markdown",
      "id": "b9cd50a0-992d-4988-8463-2b2b1c4629b4",
      "metadata": {
        "id": "b9cd50a0-992d-4988-8463-2b2b1c4629b4"
      },
      "source": [
        "1. Сколько вакансий имеет отношение к данным?\n",
        "\n",
        "Считаем, что вакансия имеет отношение к данным, если в её названии содержатся слова 'data' или 'данн'.\n",
        "\n",
        "*Подсказка: Обратите внимание, что названия вакансий могут быть написаны в любом регистре.*\n"
      ]
    },
    {
      "cell_type": "code",
      "execution_count": 37,
      "id": "54ab0e50-c0f1-47cc-a54b-bc5c8bc363f9",
      "metadata": {
        "id": "54ab0e50-c0f1-47cc-a54b-bc5c8bc363f9"
      },
      "outputs": [],
      "source": [
        "# текст запроса\n",
        "\n",
        "query_6_1 = f'''\n",
        "select\n",
        "    count(*) --считаем все строки\n",
        "from vacancies --в таблице вакансий\n",
        "where lower(name) like '%data%' or lower(name) like '%данн%' --содержащие необходимые сочетания\n",
        "'''"
      ]
    },
    {
      "cell_type": "code",
      "execution_count": 38,
      "id": "9F1meAqsuUjd",
      "metadata": {
        "colab": {
          "base_uri": "https://localhost:8080/"
        },
        "id": "9F1meAqsuUjd",
        "outputId": "8ac361cd-7ef8-40bd-e275-8c95406666a9"
      },
      "outputs": [
        {
          "name": "stderr",
          "output_type": "stream",
          "text": [
            "<ipython-input-38-0af85e12a8fe>:2: UserWarning: pandas only supports SQLAlchemy connectable (engine/connection) or database string URI or sqlite3 DBAPI2 connection. Other DBAPI2 objects are not tested. Please consider using SQLAlchemy.\n",
            "  data_vac = pd.read_sql_query(query_6_1, connection)\n"
          ]
        },
        {
          "name": "stdout",
          "output_type": "stream",
          "text": [
            "   count\n",
            "0   1771\n"
          ]
        }
      ],
      "source": [
        "# результат запроса\n",
        "data_vac = pd.read_sql_query(query_6_1, connection)\n",
        "print(data_vac)"
      ]
    },
    {
      "cell_type": "markdown",
      "id": "4dea20cb-a36b-474a-a0b9-e08e8e3857a5",
      "metadata": {
        "id": "4dea20cb-a36b-474a-a0b9-e08e8e3857a5"
      },
      "source": [
        "2. Сколько есть подходящих вакансий для начинающего дата-сайентиста?\n",
        "Будем считать вакансиями для дата-сайентистов такие, в названии которых есть хотя бы одно из следующих сочетаний:\n",
        "* 'data scientist'\n",
        "* 'data science'\n",
        "* 'исследователь данных'\n",
        "* 'ML' (здесь не нужно брать вакансии по HTML)\n",
        "* 'machine learning'\n",
        "* 'машинн%обучен%'\n",
        "\n",
        "** В следующих заданиях мы продолжим работать с вакансиями по этому условию.*\n",
        "\n",
        "Считаем вакансиями для специалистов уровня Junior следующие:\n",
        "* в названии есть слово 'junior' *или*\n",
        "* требуемый опыт — Нет опыта *или*\n",
        "* тип трудоустройства — Стажировка.\n"
      ]
    },
    {
      "cell_type": "code",
      "execution_count": 39,
      "id": "9c61b3c0-bb66-46c9-ae1e-81d3f5752b4a",
      "metadata": {
        "id": "9c61b3c0-bb66-46c9-ae1e-81d3f5752b4a"
      },
      "outputs": [],
      "source": [
        "# текст запроса\n",
        "query_6_2 = f'''\n",
        "select\n",
        "    count(name)\n",
        "from vacancies\n",
        "--применяем все необходимые фильтры по искомым сочетаниям слов\n",
        "where((name ilike '%data scientist%'\n",
        "  or name ilike '%data science%'\n",
        "  or name ilike '%исследователь данных%'\n",
        "  or (name like '%ML%' and name not ilike '%HTML%')\n",
        "  or name ilike '%machine learning%'\n",
        "  or name ilike '%машинн%обучен%')\n",
        "  and (name ilike '%junior%' or experience ilike '%Нет опыта%' or employment ilike '%Стажировка%'))\n",
        "'''"
      ]
    },
    {
      "cell_type": "code",
      "execution_count": 40,
      "id": "ZNM-LLYuu1dj",
      "metadata": {
        "colab": {
          "base_uri": "https://localhost:8080/"
        },
        "id": "ZNM-LLYuu1dj",
        "outputId": "176088ee-4531-46d7-e351-fa451c32b6c0"
      },
      "outputs": [
        {
          "name": "stderr",
          "output_type": "stream",
          "text": [
            "<ipython-input-40-5d6ceb6a6147>:2: UserWarning: pandas only supports SQLAlchemy connectable (engine/connection) or database string URI or sqlite3 DBAPI2 connection. Other DBAPI2 objects are not tested. Please consider using SQLAlchemy.\n",
            "  ds_jun_vac = pd.read_sql_query(query_6_2, connection)\n"
          ]
        },
        {
          "name": "stdout",
          "output_type": "stream",
          "text": [
            "   count\n",
            "0     51\n"
          ]
        }
      ],
      "source": [
        "# результат запроса\n",
        "ds_jun_vac = pd.read_sql_query(query_6_2, connection)\n",
        "print(ds_jun_vac)"
      ]
    },
    {
      "cell_type": "markdown",
      "id": "eedceb80-c5ca-480e-b27a-278dfb8b4438",
      "metadata": {
        "id": "eedceb80-c5ca-480e-b27a-278dfb8b4438"
      },
      "source": [
        "3. Сколько есть вакансий для DS, в которых в качестве ключевого навыка указан SQL или postgres?\n",
        "\n",
        "** Критерии для отнесения вакансии к DS указаны в предыдущем задании.*"
      ]
    },
    {
      "cell_type": "code",
      "execution_count": 41,
      "id": "69621713-0cc5-4f1b-a1d7-bb144fa6148c",
      "metadata": {
        "id": "69621713-0cc5-4f1b-a1d7-bb144fa6148c"
      },
      "outputs": [],
      "source": [
        "# текст запроса\n",
        "query_6_3 = f'''\n",
        "select\n",
        "    count(name)\n",
        "from vacancies\n",
        "where((name ilike '%data scientist%'\n",
        "  or name ilike '%data science%'\n",
        "  or name ilike '%исследователь данных%'\n",
        "  or (name like '%ML%' and name not ilike '%HTML%')\n",
        "  or name ilike '%machine learning%'\n",
        "  or name ilike '%машинн%обучен%')\n",
        "  and (key_skills like '%SQL%' or key_skills like 'postgres'))\n",
        "'''"
      ]
    },
    {
      "cell_type": "code",
      "execution_count": 42,
      "id": "alA8WEAAvGdf",
      "metadata": {
        "colab": {
          "base_uri": "https://localhost:8080/"
        },
        "id": "alA8WEAAvGdf",
        "outputId": "f22e2960-1aac-414c-9cf1-8dd1560270f1"
      },
      "outputs": [
        {
          "name": "stderr",
          "output_type": "stream",
          "text": [
            "<ipython-input-42-d9d213265953>:2: UserWarning: pandas only supports SQLAlchemy connectable (engine/connection) or database string URI or sqlite3 DBAPI2 connection. Other DBAPI2 objects are not tested. Please consider using SQLAlchemy.\n",
            "  ds_sql_requirement = pd.read_sql_query(query_6_3, connection)\n"
          ]
        },
        {
          "name": "stdout",
          "output_type": "stream",
          "text": [
            "   count\n",
            "0    201\n"
          ]
        }
      ],
      "source": [
        "# результат запроса\n",
        "ds_sql_requirement = pd.read_sql_query(query_6_3, connection)\n",
        "print(ds_sql_requirement)"
      ]
    },
    {
      "cell_type": "markdown",
      "id": "1be1e9c6-37cf-4a5f-bfeb-04cab799dc80",
      "metadata": {
        "id": "1be1e9c6-37cf-4a5f-bfeb-04cab799dc80"
      },
      "source": [
        "4. Проверьте, насколько популярен Python в требованиях работодателей к DS.Для этого вычислите количество вакансий, в которых в качестве ключевого навыка указан Python.\n",
        "\n",
        "** Это можно сделать помощью запроса, аналогичного предыдущему.*"
      ]
    },
    {
      "cell_type": "code",
      "execution_count": 43,
      "id": "0036a355-9ccf-4564-8b01-73d8194297e7",
      "metadata": {
        "id": "0036a355-9ccf-4564-8b01-73d8194297e7"
      },
      "outputs": [],
      "source": [
        "# текст запроса\n",
        "query_6_4 = f'''\n",
        "select\n",
        "    count(name)\n",
        "from vacancies\n",
        "where((name ilike '%data scientist%'\n",
        "  or name ilike '%data science%'\n",
        "  or name ilike '%исследователь данных%'\n",
        "  or (name like '%ML%' and name not ilike '%HTML%')\n",
        "  or name ilike '%machine learning%'\n",
        "  or name ilike '%машинн%обучен%')\n",
        "  and (key_skills like '%Python%'))\n",
        "'''"
      ]
    },
    {
      "cell_type": "code",
      "execution_count": 44,
      "id": "1i-5WyucvQ6v",
      "metadata": {
        "colab": {
          "base_uri": "https://localhost:8080/"
        },
        "id": "1i-5WyucvQ6v",
        "outputId": "c7adccc2-2e1d-437a-de27-3d6d93f20b12"
      },
      "outputs": [
        {
          "name": "stdout",
          "output_type": "stream",
          "text": [
            "   count\n",
            "0    351\n"
          ]
        },
        {
          "name": "stderr",
          "output_type": "stream",
          "text": [
            "<ipython-input-44-08cae1e73fb2>:2: UserWarning: pandas only supports SQLAlchemy connectable (engine/connection) or database string URI or sqlite3 DBAPI2 connection. Other DBAPI2 objects are not tested. Please consider using SQLAlchemy.\n",
            "  ds_python_requirement = pd.read_sql_query(query_6_4, connection)\n"
          ]
        }
      ],
      "source": [
        "# результат запроса\n",
        "ds_python_requirement = pd.read_sql_query(query_6_4, connection)\n",
        "print(ds_python_requirement)"
      ]
    },
    {
      "cell_type": "markdown",
      "id": "ec3c8db7-fa21-4a41-a994-1af63742a642",
      "metadata": {
        "id": "ec3c8db7-fa21-4a41-a994-1af63742a642"
      },
      "source": [
        "5. Сколько ключевых навыков в среднем указывают в вакансиях для DS?\n",
        "Ответ округлите до двух знаков после точки-разделителя."
      ]
    },
    {
      "cell_type": "code",
      "execution_count": 45,
      "id": "949132bc-d5b6-4611-8218-0b9a504d74f4",
      "metadata": {
        "id": "949132bc-d5b6-4611-8218-0b9a504d74f4"
      },
      "outputs": [],
      "source": [
        "# текст запроса\n",
        "query_6_5 = f'''\n",
        "select\n",
        "    --считаем количество слов в ячейках\n",
        "    --по количеству пробелов CHR(9) между значениями\n",
        "    --для этого от общей длины строки отнимаем длину строки без пробелов\n",
        "    --добавляя ещё одно значение, т.к. после последнего пробела уже нет\n",
        "    round(avg(length(key_skills) - length(replace(key_skills,CHR(9),''))+1),2)\n",
        "from vacancies\n",
        "where((name ilike '%data scientist%'\n",
        "  or name ilike '%data science%'\n",
        "  or name ilike '%исследователь данных%'\n",
        "  or (name like '%ML%' and name not ilike '%HTML%')\n",
        "  or name ilike '%machine learning%'\n",
        "  or name ilike '%машинн%обучен%')\n",
        "  and key_skills is not null)\n",
        "'''"
      ]
    },
    {
      "cell_type": "code",
      "execution_count": 46,
      "id": "a3V24Tvmviqk",
      "metadata": {
        "colab": {
          "base_uri": "https://localhost:8080/"
        },
        "id": "a3V24Tvmviqk",
        "outputId": "81f7079c-149f-4a29-dd4d-1b80cd736e97"
      },
      "outputs": [
        {
          "name": "stderr",
          "output_type": "stream",
          "text": [
            "<ipython-input-46-7c6d7b0fdfb0>:2: UserWarning: pandas only supports SQLAlchemy connectable (engine/connection) or database string URI or sqlite3 DBAPI2 connection. Other DBAPI2 objects are not tested. Please consider using SQLAlchemy.\n",
            "  key_skills_avg = pd.read_sql_query(query_6_5, connection)\n"
          ]
        },
        {
          "name": "stdout",
          "output_type": "stream",
          "text": [
            "   round\n",
            "0   6.41\n"
          ]
        }
      ],
      "source": [
        "# результат запроса\n",
        "key_skills_avg = pd.read_sql_query(query_6_5, connection)\n",
        "print(key_skills_avg)"
      ]
    },
    {
      "cell_type": "markdown",
      "id": "1041c17a-ca8f-4543-a0ca-32778914fb00",
      "metadata": {
        "id": "1041c17a-ca8f-4543-a0ca-32778914fb00"
      },
      "source": [
        "6. Напишите запрос, позволяющий вычислить, какую зарплату для DS в **среднем** указывают для каждого типа требуемого опыта (уникальное значение из поля *experience*).\n",
        "\n",
        "При решении задачи примите во внимание следующее:\n",
        "1. Рассматриваем только вакансии, у которых заполнено хотя бы одно из двух полей с зарплатой.\n",
        "2. Если заполнены оба поля с зарплатой, то считаем зарплату по каждой вакансии как сумму двух полей, делённую на 2. Если заполнено только одно из полей, то его и считаем зарплатой по вакансии.\n",
        "3. Если в расчётах участвует null, в результате он тоже даст null (посмотрите, что возвращает запрос select 1 + null). Чтобы избежать этой ситуацию, мы воспользуемся функцией [coalesce](https://postgrespro.ru/docs/postgresql/9.5/functions-conditional#functions-coalesce-nvl-ifnull), которая заменит null на значение, которое мы передадим. Например, посмотрите, что возвращает запрос `select 1 + coalesce(null, 0)`\n",
        "\n",
        "Выясните, на какую зарплату в среднем может рассчитывать дата-сайентист с опытом работы от 3 до 6 лет. Результат округлите до целого числа."
      ]
    },
    {
      "cell_type": "code",
      "execution_count": 47,
      "id": "6a743d39-5204-48d3-8271-b9f88e68d40e",
      "metadata": {
        "id": "6a743d39-5204-48d3-8271-b9f88e68d40e"
      },
      "outputs": [],
      "source": [
        "# текст запроса\n",
        "query_6_6 = f'''\n",
        "select\n",
        "    experience \"Опыт работы\",\n",
        "    --используя coalesce для перебора значений, считаем:\n",
        "    --зп от + зп до, делённые на 2, если указаны оба значения\n",
        "    --если одно из значений null\n",
        "    --берём значение \"от\", если указано оно\n",
        "    --или значение \"до\", если \"от\" - пустое\n",
        "    round(avg(coalesce((salary_from + salary_to)/2, salary_from, salary_to))) \"Средняя з/п\"\n",
        "from vacancies\n",
        "where((name ilike '%data scientist%'\n",
        "  or name ilike '%data science%'\n",
        "  or name ilike '%исследователь данных%'\n",
        "  or (name like '%ML%' and name not ilike '%HTML%')\n",
        "  or name ilike '%machine learning%'\n",
        "  or name ilike '%машинн%обучен%')\n",
        "  and (salary_from is not null or salary_to is not null)\n",
        " )\n",
        "  group by 1\n",
        "'''"
      ]
    },
    {
      "cell_type": "code",
      "execution_count": 48,
      "id": "aRIJ0mZEwU1_",
      "metadata": {
        "colab": {
          "base_uri": "https://localhost:8080/"
        },
        "id": "aRIJ0mZEwU1_",
        "outputId": "7965bc48-a3ce-4efe-819c-14bdc59ac4ce"
      },
      "outputs": [
        {
          "name": "stderr",
          "output_type": "stream",
          "text": [
            "<ipython-input-48-da33300a421f>:2: UserWarning: pandas only supports SQLAlchemy connectable (engine/connection) or database string URI or sqlite3 DBAPI2 connection. Other DBAPI2 objects are not tested. Please consider using SQLAlchemy.\n",
            "  avg_salary = pd.read_sql_query(query_6_6, connection)\n"
          ]
        },
        {
          "name": "stdout",
          "output_type": "stream",
          "text": [
            "          Опыт работы  Средняя з/п\n",
            "0           Нет опыта      74643.0\n",
            "1  От 1 года до 3 лет     139675.0\n",
            "2       От 3 до 6 лет     243115.0\n"
          ]
        }
      ],
      "source": [
        "# результат запроса\n",
        "avg_salary = pd.read_sql_query(query_6_6, connection)\n",
        "print(avg_salary)"
      ]
    },
    {
      "cell_type": "markdown",
      "id": "6a7892b4-4113-4746-adce-18aa2844f18e",
      "metadata": {
        "id": "6a7892b4-4113-4746-adce-18aa2844f18e"
      },
      "source": [
        "***"
      ]
    },
    {
      "cell_type": "markdown",
      "id": "UjLWUptVwY1o",
      "metadata": {
        "id": "UjLWUptVwY1o"
      },
      "source": [
        "# Выводы по предметному анализу\n",
        "- На момент выгрузки датасета количество вакансий, имеющих то или иное отношение к работе с данными, составляет 3.5% от общего числа почти в 50.000, что довольно прилично, учитывая, что общее количество сфер деятельности, указанных в базе данных, составляет почти 300 шт.\n",
        "Количество вакансий непосредственно в области Data Science составляет 480 шт, из которых 10% - вакансии для начинающих специалистов, что указывает на активный рост востребованности данного направления.\n",
        "- Почти половина вакансий на позицию Data Scientist предполагает знание SQL и более 70% - Python, что подтверждает факт того, что этот язык программирования является самым популярным в области обработки данных.\n",
        "- Заработные платы на данной позиции начинаются в среднем от 74.000 для новичков и растут по мере увеличения опыта работы в сфере – так при опыте от 1 года до 3-х в среднем имеют показатель около 140.000 и более 240.000 для опытных специалистов от 3-х до 6-ти лет.\n"
      ]
    },
    {
      "cell_type": "markdown",
      "id": "c0ED6fh7wiBT",
      "metadata": {
        "id": "c0ED6fh7wiBT"
      },
      "source": [
        "# Общий вывод по проекту"
      ]
    },
    {
      "cell_type": "markdown",
      "id": "h9B3BL-wwj18",
      "metadata": {
        "id": "h9B3BL-wwj18"
      },
      "source": [
        "**Итак, статистика нашей базы данных выглядит следующим образом:**\n",
        "    \n",
        "1. Вакансии - 49197\n",
        "2. Работодатели - 23501\n",
        "3. Регионы - 1362\n",
        "4. Сферы деятельности - 294\n",
        "\n",
        "**Топ-5 работодателей по количеству вакансий:**\n",
        "\n",
        "1.  Яндекс      1933\n",
        "2.  Ростелеком      491\n",
        "3.  Тинькофф        444\n",
        "4.  СБЕР            428\n",
        "5.  Газпром нефть   331\n",
        "\n",
        "**Топ-5 регионов по количеству вакансий:**\n",
        "1. Москва\n",
        "2. Санкт-Петербург\n",
        "3. Минск\n",
        "4. Новосибирск\n",
        "5. Алматы\n",
        "\n",
        "**Количество вакансий с удалённым графиком работы составляет 19%, что говорит о росте популярности данного типа занятости:**\n"
      ]
    },
    {
      "cell_type": "code",
      "execution_count": 49,
      "id": "5c1fb327",
      "metadata": {
        "colab": {
          "base_uri": "https://localhost:8080/"
        },
        "id": "5c1fb327",
        "outputId": "87cdba3a-a493-4a58-bdc1-de75226b81d7"
      },
      "outputs": [
        {
          "name": "stdout",
          "output_type": "stream",
          "text": [
            "   count\n",
            "0   19.0\n"
          ]
        },
        {
          "name": "stderr",
          "output_type": "stream",
          "text": [
            "<ipython-input-49-ee2e2fd1c71c>:8: UserWarning: pandas only supports SQLAlchemy connectable (engine/connection) or database string URI or sqlite3 DBAPI2 connection. Other DBAPI2 objects are not tested. Please consider using SQLAlchemy.\n",
            "  dist_schedule = pd.read_sql_query(query_7_1, connection)\n"
          ]
        }
      ],
      "source": [
        "query_7_1 = f'''\n",
        "select\n",
        "    count(*) --считаем общее количество строк\n",
        "from vacancies --в таблице с вакансиями\n",
        "where schedule = 'Удаленная работа' --используя фильтр по \"удалёнке\"\n",
        "'''\n",
        "\n",
        "dist_schedule = pd.read_sql_query(query_7_1, connection)\n",
        "# Выводим результат, посчитав долю от общего количества вакансий\n",
        "print(round(dist_schedule / 49197 * 100))"
      ]
    },
    {
      "cell_type": "markdown",
      "id": "f08164d3",
      "metadata": {
        "id": "f08164d3"
      },
      "source": [
        "### Вакансии Data Science\n",
        "Больше всего вакансий на позицию специалиста по Data Science ожидаемо размещено в Москве (217 шт.), далее следуют Санкт-Петербург (64 шт.) и Новосибирск (23 шт.) с Нижним Новгородом (20 шт.):"
      ]
    },
    {
      "cell_type": "code",
      "execution_count": 50,
      "id": "49a27ef0",
      "metadata": {
        "colab": {
          "base_uri": "https://localhost:8080/"
        },
        "id": "49a27ef0",
        "outputId": "b4daf4f8-3f90-47b1-cf2c-58ed81421ebe"
      },
      "outputs": [
        {
          "name": "stderr",
          "output_type": "stream",
          "text": [
            "<ipython-input-50-dd4ddaeb1394>:17: UserWarning: pandas only supports SQLAlchemy connectable (engine/connection) or database string URI or sqlite3 DBAPI2 connection. Other DBAPI2 objects are not tested. Please consider using SQLAlchemy.\n",
            "  ds_area = pd.read_sql_query(query_7_2, connection)\n"
          ]
        },
        {
          "name": "stdout",
          "output_type": "stream",
          "text": [
            "                         name  count\n",
            "0                      Москва    217\n",
            "1             Санкт-Петербург     64\n",
            "2                 Новосибирск     23\n",
            "3             Нижний Новгород     20\n",
            "4                      Казань     16\n",
            "5                      Алматы     16\n",
            "6                       Минск      9\n",
            "7                       Томск      8\n",
            "8                Екатеринбург      7\n",
            "9                   Краснодар      6\n",
            "10             Ростов-на-Дону      6\n",
            "11                    Армения      6\n",
            "12                 Нур-Султан      6\n",
            "13                     Самара      5\n",
            "14                      Пермь      5\n",
            "15                       Кипр      5\n",
            "16                     Рязань      4\n",
            "17                    Ташкент      4\n",
            "18                  Иннополис      3\n",
            "19                    Тбилиси      3\n",
            "20                Владивосток      3\n",
            "21                     Сербия      3\n",
            "22                       Омск      3\n",
            "23                        Уфа      2\n",
            "24                    Израиль      2\n",
            "25                     Турция      2\n",
            "26                      Пенза      2\n",
            "27  Киров (Кировская область)      2\n",
            "28                      Чехия      2\n",
            "29                       Баку      2\n",
            "30                      Литва      2\n",
            "31                    Воронеж      2\n",
            "32           Набережные Челны      1\n",
            "33                    Барнаул      1\n",
            "34                     Батуми      1\n",
            "35                   Белгород      1\n",
            "36                     Бишкек      1\n",
            "37                     Брянск      1\n",
            "38                  Волгоград      1\n",
            "39                 Зеленоград      1\n",
            "40                     Ижевск      1\n",
            "41                    Королев      1\n",
            "42                 Красноярск      1\n",
            "43                    Абхазия      1\n",
            "44                       Орел      1\n",
            "45               Петрозаводск      1\n",
            "46                     Польша      1\n",
            "47                    Саратов      1\n",
            "48                      Тверь      1\n",
            "49                     Тюмень      1\n",
            "50                  Челябинск      1\n",
            "51                 Черногория      1\n"
          ]
        }
      ],
      "source": [
        "query_7_2 = f'''\n",
        "select\n",
        "    a.name,\n",
        "    count(v.id)\n",
        "from vacancies v\n",
        "join areas a on a.id = v.area_id\n",
        "where(v.name ilike '%data scientist%'\n",
        "  or v.name ilike '%data science%'\n",
        "  or v.name ilike '%исследователь данных%'\n",
        "  or (v.name like '%ML%' and v.name not ilike '%HTML%')\n",
        "  or v.name ilike '%machine learning%'\n",
        "  or v.name ilike '%машинн%обучен%')\n",
        "group by 1\n",
        "order by 2 desc\n",
        "'''\n",
        "\n",
        "ds_area = pd.read_sql_query(query_7_2, connection)\n",
        "print(ds_area)"
      ]
    },
    {
      "cell_type": "markdown",
      "id": "310175a7",
      "metadata": {
        "id": "310175a7"
      },
      "source": [
        "### Статистика вакансий по самым востребованным языкам программирования:"
      ]
    },
    {
      "cell_type": "code",
      "execution_count": 51,
      "id": "ebcf1e5c",
      "metadata": {
        "colab": {
          "base_uri": "https://localhost:8080/"
        },
        "id": "ebcf1e5c",
        "outputId": "be1089a5-5621-4510-edb9-c898c6fc1fec"
      },
      "outputs": [
        {
          "name": "stderr",
          "output_type": "stream",
          "text": [
            "<ipython-input-51-a2628004040e>:57: UserWarning: pandas only supports SQLAlchemy connectable (engine/connection) or database string URI or sqlite3 DBAPI2 connection. Other DBAPI2 objects are not tested. Please consider using SQLAlchemy.\n",
            "  language_stat = pd.read_sql_query(query_7_3, connection)\n"
          ]
        },
        {
          "name": "stdout",
          "output_type": "stream",
          "text": [
            "  Язык программирования  Количество вакансий\n",
            "0                  JAVA                 5769\n",
            "1           Java Script                 3718\n",
            "2                Python                 3461\n",
            "3                   PHP                 2052\n",
            "4                    C#                 1521\n",
            "5                   C++                 1162\n",
            "6                 Swift                  457\n"
          ]
        }
      ],
      "source": [
        "query_7_3 = f'''\n",
        "\n",
        "--объединяем таблицы с фильтрами каждого интересующего языка программирования\n",
        "--данные о самых популярных языках программирования взяты из статистики\n",
        "--сайта \"tproger\" за 2024 год\n",
        "\n",
        "select\n",
        "    'Python' \"Язык программирования\",\n",
        "    count(name) \"Количество вакансий\"\n",
        "from vacancies\n",
        "where key_skills ilike '%Python%'\n",
        "\n",
        "union all\n",
        "select\n",
        "    'JAVA',\n",
        "    count(name)\n",
        "from vacancies\n",
        "where key_skills ilike '%JAVA%' and (not key_skills ilike '%JavaScript%' or key_skills not ilike '%Java Script%')\n",
        "\n",
        "union all\n",
        "select\n",
        "    'Java Script',\n",
        "    count(name)\n",
        "from vacancies\n",
        "where key_skills ilike '%JavaScript%' or key_skills ilike '%Java Script%'\n",
        "\n",
        "union all\n",
        "select\n",
        "    'C++',\n",
        "    count(name)\n",
        "from vacancies\n",
        "where key_skills ilike '%C++%'\n",
        "\n",
        "union all\n",
        "select\n",
        "    'C#',\n",
        "    count(name)\n",
        "from vacancies\n",
        "where key_skills ilike '%C#%'\n",
        "\n",
        "union all\n",
        "select\n",
        "    'PHP',\n",
        "    count(name)\n",
        "from vacancies\n",
        "where key_skills ilike '%PHP%'\n",
        "\n",
        "union all\n",
        "select\n",
        "    'Swift',\n",
        "    count(name)\n",
        "from vacancies\n",
        "where key_skills ilike '%Swift%'\n",
        "order by 2 desc\n",
        "'''\n",
        "\n",
        "language_stat = pd.read_sql_query(query_7_3, connection)\n",
        "print(language_stat)"
      ]
    },
    {
      "cell_type": "markdown",
      "id": "9aa2b0a6",
      "metadata": {
        "id": "9aa2b0a6"
      },
      "source": [
        "1. JAVA\t(5769 вакансий)\n",
        "2. Java Script (3718 вакансий)\n",
        "3. Python\t(3461 вакансий)\n",
        "4. PHP\t(2052 вакансий)\n",
        "5. C#\t(1521 вакансий)\n",
        "6. C++\t(1162 вакансий)\n",
        "7. Swift (457 вакансий)"
      ]
    },
    {
      "cell_type": "markdown",
      "id": "8c0be95f",
      "metadata": {
        "id": "8c0be95f"
      },
      "source": [
        "### Самые популярные сферы деятельности:"
      ]
    },
    {
      "cell_type": "code",
      "execution_count": 52,
      "id": "9748c8e8",
      "metadata": {
        "colab": {
          "base_uri": "https://localhost:8080/"
        },
        "id": "9748c8e8",
        "outputId": "47b6c53c-0dcf-425e-ce7c-7ec1a43b0989"
      },
      "outputs": [
        {
          "name": "stderr",
          "output_type": "stream",
          "text": [
            "<ipython-input-52-af6a4dee8446>:13: UserWarning: pandas only supports SQLAlchemy connectable (engine/connection) or database string URI or sqlite3 DBAPI2 connection. Other DBAPI2 objects are not tested. Please consider using SQLAlchemy.\n",
            "  top_industries = pd.read_sql_query(query_7_4, connection)\n"
          ]
        },
        {
          "name": "stdout",
          "output_type": "stream",
          "text": [
            "                                  Сфера деятельности  Количество вакансий\n",
            "0                Разработка программного обеспечения                12499\n",
            "1  Системная интеграция,  автоматизации технологи...                11034\n",
            "2  Интернет-компания (поисковики, платежные систе...                 6413\n",
            "3                                               Банк                 2742\n",
            "4                                    Мобильная связь                 1585\n"
          ]
        }
      ],
      "source": [
        "query_7_4 = f'''\n",
        "select\n",
        "    i.name \"Сфера деятельности\",\n",
        "    count(v.id) \"Количество вакансий\"\n",
        "from vacancies v\n",
        "join employers_industries ei on v.employer_id = ei.employer_id\n",
        "join industries i on i.id = ei.industry_id\n",
        "group by 1\n",
        "order by 2 desc\n",
        "limit 5\n",
        "'''\n",
        "\n",
        "top_industries = pd.read_sql_query(query_7_4, connection)\n",
        "print(top_industries)"
      ]
    },
    {
      "cell_type": "markdown",
      "id": "b30adcfb",
      "metadata": {
        "id": "b30adcfb"
      },
      "source": [
        "1. Разработка программного обеспечения (12499 вакансий)\n",
        "2. Системная интеграция,  автоматизации технологических и бизнес-процессов предприятия, ИТ-консалтинг (11034 вакансий)\n",
        "3. Интернет-компания (поисковики, платежные системы, соц.сети, информационно-познавательные и развлекательные ресурсы, продвижение сайтов и прочее) (6413 вакансий)\n",
        "4. Банк (2742 вакансий)\n",
        "5. Мобильная связь (1585 вакансий)"
      ]
    },
    {
      "cell_type": "markdown",
      "id": "8d15bf00",
      "metadata": {
        "id": "8d15bf00"
      },
      "source": [
        "### Самые прибильные сферы (по средней з/п):"
      ]
    },
    {
      "cell_type": "code",
      "execution_count": 53,
      "id": "ccc76ac3",
      "metadata": {
        "colab": {
          "base_uri": "https://localhost:8080/"
        },
        "id": "ccc76ac3",
        "outputId": "f34ff905-0252-4b9f-ce02-34fce8aa0394"
      },
      "outputs": [
        {
          "name": "stdout",
          "output_type": "stream",
          "text": [
            "                          Сфера деятельности  Средняя з/п\n",
            "0  Агрохимия (продвижение, оптовая торговля)     381429.0\n",
            "1                   Агрохимия (производство)     339875.0\n",
            "2                             Игорный бизнес     191905.0\n",
            "3          Корма для животных (производство)     168300.0\n",
            "4                                 Зоомагазин     167613.0\n"
          ]
        },
        {
          "name": "stderr",
          "output_type": "stream",
          "text": [
            "<ipython-input-53-c68db1b36827>:15: UserWarning: pandas only supports SQLAlchemy connectable (engine/connection) or database string URI or sqlite3 DBAPI2 connection. Other DBAPI2 objects are not tested. Please consider using SQLAlchemy.\n",
            "  top_salaries = pd.read_sql_query(query_7_5, connection)\n"
          ]
        }
      ],
      "source": [
        "query_7_5 = f'''\n",
        "select\n",
        "    i.name \"Сфера деятельности\",\n",
        "    --вычисляем среднюю ЗП аналогично запросу 6_6\n",
        "    round(avg(coalesce((v.salary_from + v.salary_to)/2, v.salary_from, v.salary_to))) \"Средняя з/п\"\n",
        "from vacancies v\n",
        "join employers_industries ei on v.employer_id = ei.employer_id\n",
        "join industries i on i.id = ei.industry_id\n",
        "where v.salary_from is not null or v.salary_to is not null\n",
        "group by 1\n",
        "order by 2 desc\n",
        "limit 5\n",
        "'''\n",
        "\n",
        "top_salaries = pd.read_sql_query(query_7_5, connection)\n",
        "print(top_salaries)"
      ]
    },
    {
      "cell_type": "markdown",
      "id": "e224d0a5",
      "metadata": {
        "id": "e224d0a5"
      },
      "source": [
        "1. Агрохимия (продвижение, оптовая торговля) - 381429 руб/мес\n",
        "2. Агрохимия (производство) - 339875.0 руб/мес\n",
        "3. Игорный бизнес - 191905.0 руб/мес\n",
        "4. Корма для животных (производство) - 168300.0 руб/мес\n",
        "5. Зоомагазин - 167613.0 руб/мес"
      ]
    },
    {
      "cell_type": "code",
      "execution_count": 54,
      "id": "DLBShhRqfVqj",
      "metadata": {
        "id": "DLBShhRqfVqj"
      },
      "outputs": [],
      "source": [
        "connection.close()"
      ]
    }
  ],
  "metadata": {
    "colab": {
      "collapsed_sections": [
        "8d62a9f3-f64e-4fe7-bdac-c4dffa16155e"
      ],
      "provenance": []
    },
    "kernelspec": {
      "display_name": "Python 3",
      "language": "python",
      "name": "python3"
    },
    "language_info": {
      "codemirror_mode": {
        "name": "ipython",
        "version": 3
      },
      "file_extension": ".py",
      "mimetype": "text/x-python",
      "name": "python",
      "nbconvert_exporter": "python",
      "pygments_lexer": "ipython3",
      "version": "3.8.10"
    }
  },
  "nbformat": 4,
  "nbformat_minor": 5
}
